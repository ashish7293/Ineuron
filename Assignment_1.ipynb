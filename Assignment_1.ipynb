{
 "cells": [
  {
   "cell_type": "raw",
   "id": "f2695bd6-e507-45ff-be81-a3e2c4b5feed",
   "metadata": {},
   "source": [
    "1. In the below elements which of them are values or an expression? eg:- values can be\n",
    "integer or string and expressions will be mathematical operators.\n",
    "\n",
    "* : expression\n",
    "'hello' : value\n",
    "-87.8 : value\n",
    "- : expression\n",
    "/ : expression\n",
    "+ : expression\n",
    "6 : value"
   ]
  },
  {
   "cell_type": "raw",
   "id": "70c6a1c3-a3a2-4b36-a64d-d26d7a4ba709",
   "metadata": {},
   "source": [
    "2. What is the difference between string and variable?\n",
    "\n",
    "Strings : string data type are \"sequence of elements\" \n",
    "Variable : variable is like a box that stores data values.\n",
    "\n",
    "Strings can be stored in a variable "
   ]
  },
  {
   "cell_type": "raw",
   "id": "b5b0c609-97f8-4069-b5e3-ec2e011b509b",
   "metadata": {},
   "source": [
    "3. Describe three different data types.\n",
    "\n",
    "Float : float is a number with decimals, can be either positive or negative.\n",
    "e.g. 7.6, 1.0, -5.5\n",
    "\n",
    "Lists : List is sequence data type, can be used to store multiple items in one variable.\n",
    "e.g. ['hello',45,3.4,['list',34]]\n",
    "\n",
    "bool : Boolean data type can store/ represent only True or False (numberically 1 or 0)"
   ]
  },
  {
   "cell_type": "raw",
   "id": "2aee2557-074e-4018-b504-c2e73e11f134",
   "metadata": {},
   "source": [
    "4. What is an expression made up of? What do all expressions do?\n",
    "\n",
    "An expression is combination of operands and operators that will result in some value.\n"
   ]
  },
  {
   "cell_type": "raw",
   "id": "7a08d485-bb9f-4aac-ac2e-f20063ac7928",
   "metadata": {},
   "source": [
    "5. This assignment statements, like spam = 10. What is the difference between an\n",
    "expression and a statement?\n",
    "\n",
    "Expression:\n",
    "Always results/returns a value.\n",
    "Execution of expression doesn't change state of variables.\n",
    "\n",
    "Statement:\n",
    "May not return value.\n",
    "Execution will change state of variables\n",
    "\n",
    "so Every statement can be an expression but not the other way around.\n"
   ]
  },
  {
   "cell_type": "raw",
   "id": "97d3988d-5920-4d7c-945b-f0d660a65b0b",
   "metadata": {},
   "source": [
    "6. After running the following code, what does the variable bacon contain?\n",
    "bacon = 22\n",
    "bacon + 1\n",
    "\n",
    "variable bacon will contain integer value 22."
   ]
  },
  {
   "cell_type": "raw",
   "id": "7d37284b-b388-4c16-99d6-3159adb37b19",
   "metadata": {},
   "source": [
    "7. What should the values of the following two terms be?\n",
    "'spam' + 'spamspam'\n",
    "'spam' * 3"
   ]
  },
  {
   "cell_type": "code",
   "execution_count": 4,
   "id": "eb8408ab-2521-443e-9b80-8f8ef6b6379b",
   "metadata": {},
   "outputs": [
    {
     "data": {
      "text/plain": [
       "'spamspamspam'"
      ]
     },
     "execution_count": 4,
     "metadata": {},
     "output_type": "execute_result"
    }
   ],
   "source": [
    "'spam' + 'spamspam'"
   ]
  },
  {
   "cell_type": "code",
   "execution_count": 5,
   "id": "fa1ec583-8732-47a0-96ee-1aab6e85de61",
   "metadata": {},
   "outputs": [
    {
     "data": {
      "text/plain": [
       "'spamspamspam'"
      ]
     },
     "execution_count": 5,
     "metadata": {},
     "output_type": "execute_result"
    }
   ],
   "source": [
    "'spam' * 3"
   ]
  },
  {
   "cell_type": "raw",
   "id": "7fe35931-c51a-4e59-b37e-a0b2a5ea812a",
   "metadata": {},
   "source": [
    "8. Why is eggs a valid variable name while 100 is invalid?\n",
    "\n",
    "100 is invalid variable name because:\n",
    "\n",
    "* A variable name must start with a letter or the underscore character\n",
    "* A variable name cannot start with a number"
   ]
  },
  {
   "cell_type": "raw",
   "id": "de5df03f-2a1a-4fb4-a038-381bcac2384e",
   "metadata": {},
   "source": [
    "9. What three functions can be used to get the integer, floating-point number, or string\n",
    "version of a value?\n",
    "\n",
    "Let us assume a varible _It\n",
    "* to get integet value \n",
    "    int(_It)\n",
    "* to get floating-point number\n",
    "    float(_It)\n",
    "* to get string\n",
    "    str(_It)\n",
    "    "
   ]
  },
  {
   "cell_type": "raw",
   "id": "c61fbbb9-8471-48a0-9365-e186790c088b",
   "metadata": {},
   "source": [
    "10. Why does this expression cause an error? How can you fix it?\n",
    "'I have eaten ' + 99 + ' burritos.'\n",
    "\n",
    "This expression will an error as we are trying to add string data type to an integer data type.\n",
    "We can fix this by typecasting integer number as string as shown below:"
   ]
  },
  {
   "cell_type": "code",
   "execution_count": 6,
   "id": "9d4381fd-d777-4eb1-9f0e-b4dc906c7f47",
   "metadata": {},
   "outputs": [
    {
     "data": {
      "text/plain": [
       "'I have eaten 99 burritos'"
      ]
     },
     "execution_count": 6,
     "metadata": {},
     "output_type": "execute_result"
    }
   ],
   "source": [
    "'I have eaten ' + str(99) + ' burritos'"
   ]
  },
  {
   "cell_type": "code",
   "execution_count": null,
   "id": "ba3dbb80-1aaa-4d49-98ff-e1e24ecf0968",
   "metadata": {},
   "outputs": [],
   "source": []
  }
 ],
 "metadata": {
  "kernelspec": {
   "display_name": "Python 3 (ipykernel)",
   "language": "python",
   "name": "python3"
  },
  "language_info": {
   "codemirror_mode": {
    "name": "ipython",
    "version": 3
   },
   "file_extension": ".py",
   "mimetype": "text/x-python",
   "name": "python",
   "nbconvert_exporter": "python",
   "pygments_lexer": "ipython3",
   "version": "3.9.12"
  }
 },
 "nbformat": 4,
 "nbformat_minor": 5
}
