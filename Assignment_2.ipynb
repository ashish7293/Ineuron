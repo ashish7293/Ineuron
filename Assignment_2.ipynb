{
 "cells": [
  {
   "cell_type": "raw",
   "id": "94f5bdc3-0a60-4950-9207-ad7d5d3b03c1",
   "metadata": {},
   "source": [
    "1.What are the two values of the Boolean data type? How do you write them?\n",
    "\n",
    "The two values of Boolean data types are True and False.\n",
    "Can be written as True or 1 and False or 0."
   ]
  },
  {
   "cell_type": "raw",
   "id": "0a1ae585-c9ac-43a9-90f0-99eb2a04c86f",
   "metadata": {},
   "source": [
    "2. What are the three different types of Boolean operators?\n",
    "\n",
    "* Not operator:\n",
    "Returns opposite value of the input value.\n",
    "* And operator:\n",
    "Returns True only if both the inputs are Ture.\n",
    "* Or operator:\n",
    "Returns False only if both the inputs are False.\n"
   ]
  },
  {
   "cell_type": "raw",
   "id": "231a8e2a-ef98-4859-be99-c51ddb9ebe16",
   "metadata": {},
   "source": [
    "3. Make a list of each Boolean operator's truth tables (i.e. every possible combination of Boolean\n",
    "values for the operator and what it evaluate ).\n",
    "\n",
    "AND :\n",
    "\n",
    "A        B        A and B\n",
    "---------------------------\n",
    "True     True     True\n",
    "True     False    Fasle\n",
    "False    True     False\n",
    "False    False    False\n",
    "\n",
    "OR :\n",
    "\n",
    "A        B        A and B\n",
    "---------------------------\n",
    "True     True     True\n",
    "True     False    True\n",
    "False    True     True\n",
    "False    False    False\n",
    "\n",
    "NOT :\n",
    "\n",
    "A        not A    \n",
    "--------------\n",
    "True     False \n",
    "False     True"
   ]
  },
  {
   "cell_type": "raw",
   "id": "f0cb2efe-4027-4369-9e85-5231dcc1cdd8",
   "metadata": {},
   "source": [
    "4. What are the values of the following expressions?\n",
    "\n",
    "(5 > 4) and (3 == 5)\n",
    "\n",
    "not (5 > 4)\n",
    "\n",
    "(5 > 4) or (3 == 5)\n",
    "\n",
    "not ((5 > 4) or (3 == 5))\n",
    "\n",
    "(True and True) and (True == False)\n",
    "\n",
    "(not False) or (not True)"
   ]
  },
  {
   "cell_type": "code",
   "execution_count": 1,
   "id": "34dd43c2-7150-447a-a931-a46607d36a03",
   "metadata": {},
   "outputs": [
    {
     "data": {
      "text/plain": [
       "False"
      ]
     },
     "execution_count": 1,
     "metadata": {},
     "output_type": "execute_result"
    }
   ],
   "source": [
    "(5 > 4) and (3 == 5)"
   ]
  },
  {
   "cell_type": "code",
   "execution_count": 2,
   "id": "d5e6bbfa-a590-405f-a26b-6e72c486e782",
   "metadata": {},
   "outputs": [
    {
     "data": {
      "text/plain": [
       "False"
      ]
     },
     "execution_count": 2,
     "metadata": {},
     "output_type": "execute_result"
    }
   ],
   "source": [
    "not (5 > 4)"
   ]
  },
  {
   "cell_type": "code",
   "execution_count": 3,
   "id": "b446896d-c091-4f7e-94e8-ad294c82bb85",
   "metadata": {},
   "outputs": [
    {
     "data": {
      "text/plain": [
       "True"
      ]
     },
     "execution_count": 3,
     "metadata": {},
     "output_type": "execute_result"
    }
   ],
   "source": [
    "(5 > 4) or (3 == 5)"
   ]
  },
  {
   "cell_type": "code",
   "execution_count": 4,
   "id": "99128040-874c-47ed-8f8b-50dceafa9359",
   "metadata": {},
   "outputs": [
    {
     "data": {
      "text/plain": [
       "False"
      ]
     },
     "execution_count": 4,
     "metadata": {},
     "output_type": "execute_result"
    }
   ],
   "source": [
    "not ((5 > 4) or (3 == 5))"
   ]
  },
  {
   "cell_type": "code",
   "execution_count": 5,
   "id": "2099706c-5b76-4245-be73-3a3ca91d3a72",
   "metadata": {},
   "outputs": [
    {
     "data": {
      "text/plain": [
       "False"
      ]
     },
     "execution_count": 5,
     "metadata": {},
     "output_type": "execute_result"
    }
   ],
   "source": [
    "(True and True) and (True == False)"
   ]
  },
  {
   "cell_type": "code",
   "execution_count": 6,
   "id": "34a3e377-99c4-4520-8e5a-d389b1775e8e",
   "metadata": {},
   "outputs": [
    {
     "data": {
      "text/plain": [
       "True"
      ]
     },
     "execution_count": 6,
     "metadata": {},
     "output_type": "execute_result"
    }
   ],
   "source": [
    "(not False) or (not True)"
   ]
  },
  {
   "cell_type": "raw",
   "id": "59ff9332-6a73-4e23-94b6-9ad8154560ee",
   "metadata": {},
   "source": [
    "5. What are the six comparison operators?\n",
    "\n",
    "The six comparison operators are:\n",
    "Equal ==\n",
    "Not equal  !=\n",
    "Greater than  >\n",
    "Less than  <\n",
    "Greater than or equal to >=\n",
    "Less than or equal to  <="
   ]
  },
  {
   "cell_type": "raw",
   "id": "18c31682-ee1a-4b95-a8fc-b8cce75c5cfc",
   "metadata": {},
   "source": [
    "6. How do you tell the difference between the equal to and assignment operators?Describe a\n",
    "condition and when you would use one.\n",
    "\n",
    "Equal to operator is ( == ) and assignment operator is ( = ).\n",
    "equal to operator is used to check if two variables are equal in value whereas assignment operator is used to assign a variable with some value.\n",
    "Example:\n",
    "A == B\n",
    "checks if A is equal to B \n",
    "Returns True if equal False if not.\n",
    "\n",
    "var = 24\n",
    "assigns variable var with value of 24."
   ]
  },
  {
   "cell_type": "raw",
   "id": "006869ec-94dd-4af7-be95-865b5a89fb65",
   "metadata": {},
   "source": [
    "7. Identify the three blocks in this code:\n",
    "spam = 0\n",
    "if spam == 10:\n",
    "print('eggs')\n",
    "if spam > 5:\n",
    "print('bacon')\n",
    "else:\n",
    "print('ham')\n",
    "print('spam')\n",
    "print('spam')"
   ]
  },
  {
   "cell_type": "markdown",
   "id": "922ebcc1-06c6-4eef-9455-20af9ea16c8e",
   "metadata": {},
   "source": [
    "line 2 to line 3 : Block 1\n",
    "line 4 to line 7 : Block 2\n",
    "line 1 to line 9 : Block 3"
   ]
  },
  {
   "cell_type": "raw",
   "id": "d3531626-bf28-4650-8caa-f1efb2548fda",
   "metadata": {},
   "source": [
    "8. Write code that prints Hello if 1 is stored in spam, prints Howdy if 2 is stored in spam, and prints\n",
    "Greetings! if anything else is stored in spam."
   ]
  },
  {
   "cell_type": "code",
   "execution_count": null,
   "id": "22f75280-afa0-49a7-a2db-96f4148c5508",
   "metadata": {},
   "outputs": [],
   "source": [
    "spam = int(input())\n",
    "if spam == 1 :\n",
    "    print('Hello')\n",
    "elif spam == 2 :\n",
    "    print('Howdy')\n",
    "else:\n",
    "    print('Greetings!')\n",
    "    "
   ]
  },
  {
   "cell_type": "raw",
   "id": "f4266e77-b44a-402c-a86f-3699de6fd6b0",
   "metadata": {},
   "source": [
    "9.If your programme is stuck in an endless loop, what keys you’ll press?\n",
    "\n",
    "ctrl + C"
   ]
  },
  {
   "cell_type": "raw",
   "id": "6a979b10-3f33-465c-92ea-1af52327885b",
   "metadata": {},
   "source": [
    "10. How can you tell the difference between break and continue?\n",
    "\n",
    "Break:\n",
    "It terminates the execution of remaining iteration of loop.\n",
    "It will resume control to end of the loop.\n",
    "\n",
    "Continue:\n",
    "It will terminate only the current iteration of the loop.\n",
    "It will resume control to the next iteration of the loop."
   ]
  },
  {
   "cell_type": "code",
   "execution_count": null,
   "id": "61343642-037a-4e13-9a9b-2427bb973168",
   "metadata": {},
   "outputs": [],
   "source": []
  }
 ],
 "metadata": {
  "kernelspec": {
   "display_name": "Python 3 (ipykernel)",
   "language": "python",
   "name": "python3"
  },
  "language_info": {
   "codemirror_mode": {
    "name": "ipython",
    "version": 3
   },
   "file_extension": ".py",
   "mimetype": "text/x-python",
   "name": "python",
   "nbconvert_exporter": "python",
   "pygments_lexer": "ipython3",
   "version": "3.9.12"
  }
 },
 "nbformat": 4,
 "nbformat_minor": 5
}
