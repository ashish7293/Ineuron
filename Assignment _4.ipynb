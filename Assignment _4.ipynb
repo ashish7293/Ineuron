{
 "cells": [
  {
   "cell_type": "markdown",
   "id": "0f10c1d4-34b3-4b30-abd7-d8bcd7322c15",
   "metadata": {},
   "source": [
    "1. What exactly is []?"
   ]
  },
  {
   "cell_type": "markdown",
   "id": "5052a998-be36-4822-8292-efa2ad90c93e",
   "metadata": {},
   "source": [
    "Sqaure brackets is be used to write list. List can be written as comma seperated list of items in square brackets."
   ]
  },
  {
   "cell_type": "markdown",
   "id": "8dded744-c187-41c5-b6c1-22f4d7a57f91",
   "metadata": {},
   "source": [
    "2. In a list of values stored in a variable called spam, how would you assign the value 'hello' as the\n",
    "third value? (Assume [2, 4, 6, 8, 10] are in spam.)"
   ]
  },
  {
   "cell_type": "code",
   "execution_count": 1,
   "id": "73c53609-6c02-4051-b48d-58970a612bfe",
   "metadata": {},
   "outputs": [],
   "source": [
    "spam = [2,4,6,8,10]"
   ]
  },
  {
   "cell_type": "code",
   "execution_count": 2,
   "id": "948f0163-88a0-4b70-944f-d098eff94b2a",
   "metadata": {},
   "outputs": [],
   "source": [
    "spam[2] = 'hello'"
   ]
  },
  {
   "cell_type": "code",
   "execution_count": 3,
   "id": "139715db-e97d-42e3-832e-8b8a142359f8",
   "metadata": {},
   "outputs": [
    {
     "data": {
      "text/plain": [
       "[2, 4, 'hello', 8, 10]"
      ]
     },
     "execution_count": 3,
     "metadata": {},
     "output_type": "execute_result"
    }
   ],
   "source": [
    "spam"
   ]
  },
  {
   "cell_type": "markdown",
   "id": "7debc7ca-23dd-4d19-a279-cf4eec52f42a",
   "metadata": {},
   "source": [
    " #### Let's pretend the spam includes the list ['a', 'b', 'c', 'd'] for the next three queries."
   ]
  },
  {
   "cell_type": "code",
   "execution_count": 4,
   "id": "59941459-cf17-44b2-826a-617aae13affe",
   "metadata": {},
   "outputs": [],
   "source": [
    "spam = ['a','b','c','d']"
   ]
  },
  {
   "cell_type": "markdown",
   "id": "3cd48471-cc6a-449a-b35d-1104eb81d65a",
   "metadata": {},
   "source": [
    "3. What is the value of spam[int(int(&#39;3&#39; * 2) / 11)]?"
   ]
  },
  {
   "cell_type": "code",
   "execution_count": 5,
   "id": "3dd1863c-7bf3-459c-ab6d-310a06c8eb4f",
   "metadata": {},
   "outputs": [
    {
     "data": {
      "text/plain": [
       "'d'"
      ]
     },
     "execution_count": 5,
     "metadata": {},
     "output_type": "execute_result"
    }
   ],
   "source": [
    "spam[int(int('3'*2)/11)]"
   ]
  },
  {
   "cell_type": "markdown",
   "id": "b8dd9103-5f39-4d34-93a5-3d9000983fae",
   "metadata": {},
   "source": [
    "4. What is the value of spam[-1]?"
   ]
  },
  {
   "cell_type": "code",
   "execution_count": 11,
   "id": "0422200d-2e1b-4950-9f4a-127ecb8efb87",
   "metadata": {},
   "outputs": [
    {
     "data": {
      "text/plain": [
       "'d'"
      ]
     },
     "execution_count": 11,
     "metadata": {},
     "output_type": "execute_result"
    }
   ],
   "source": [
    "spam[-1]"
   ]
  },
  {
   "cell_type": "markdown",
   "id": "d9c1b1d2-3693-4036-b47f-6a4037fe2821",
   "metadata": {},
   "source": [
    "5. What is the value of spam[:2]?"
   ]
  },
  {
   "cell_type": "code",
   "execution_count": 12,
   "id": "19f5fba6-17b7-459a-9723-75334d36925a",
   "metadata": {},
   "outputs": [
    {
     "data": {
      "text/plain": [
       "['a', 'b']"
      ]
     },
     "execution_count": 12,
     "metadata": {},
     "output_type": "execute_result"
    }
   ],
   "source": [
    "spam[:2]"
   ]
  },
  {
   "cell_type": "markdown",
   "id": "c7be9b13-8229-4941-8a86-f915d3155c9d",
   "metadata": {},
   "source": [
    "#### Let&#39;s pretend bacon has the list [3.14, &#39;cat,&#39; 11, &#39;cat,&#39; True] for the next three questions."
   ]
  },
  {
   "cell_type": "code",
   "execution_count": 14,
   "id": "53f9efee-16cd-45ee-b076-9c7db238e7c4",
   "metadata": {},
   "outputs": [],
   "source": [
    "bacon = [3.14, 'cat', 11, 'cat', True]"
   ]
  },
  {
   "cell_type": "markdown",
   "id": "55805ea9-54e4-47ac-b04f-e291e3ca514e",
   "metadata": {},
   "source": [
    "6. What is the value of bacon.index(&#39;cat&#39;)?"
   ]
  },
  {
   "cell_type": "code",
   "execution_count": 15,
   "id": "59500d55-5f77-4cb7-88a4-5fd344d90ead",
   "metadata": {},
   "outputs": [
    {
     "data": {
      "text/plain": [
       "1"
      ]
     },
     "execution_count": 15,
     "metadata": {},
     "output_type": "execute_result"
    }
   ],
   "source": [
    "bacon.index('cat')"
   ]
  },
  {
   "cell_type": "markdown",
   "id": "ffcce15a-dace-45d2-833e-9642f1423168",
   "metadata": {},
   "source": [
    "7. How does bacon.append(99) change the look of the list value in bacon?"
   ]
  },
  {
   "cell_type": "code",
   "execution_count": 16,
   "id": "60f9a105-6809-493a-9516-6136ca9d889d",
   "metadata": {},
   "outputs": [],
   "source": [
    "bacon.append(99)"
   ]
  },
  {
   "cell_type": "code",
   "execution_count": 17,
   "id": "d72eedf2-65e2-4049-a6fd-a49ac5685e39",
   "metadata": {},
   "outputs": [
    {
     "data": {
      "text/plain": [
       "[3.14, 'cat', 11, 'cat', True, 99]"
      ]
     },
     "execution_count": 17,
     "metadata": {},
     "output_type": "execute_result"
    }
   ],
   "source": [
    "bacon"
   ]
  },
  {
   "cell_type": "markdown",
   "id": "8102d2ac-bf4f-48b8-97ea-e8c2f6e23d28",
   "metadata": {},
   "source": [
    "8. How does bacon.remove(&#39;cat&#39;) change the look of the list in bacon?"
   ]
  },
  {
   "cell_type": "code",
   "execution_count": 18,
   "id": "eb1c7d66-b571-4750-b38d-4bb784647a11",
   "metadata": {},
   "outputs": [],
   "source": [
    "bacon.remove('cat')"
   ]
  },
  {
   "cell_type": "code",
   "execution_count": 19,
   "id": "ce582c89-1575-47ee-9220-091d98ff8ae5",
   "metadata": {},
   "outputs": [
    {
     "data": {
      "text/plain": [
       "[3.14, 11, 'cat', True, 99]"
      ]
     },
     "execution_count": 19,
     "metadata": {},
     "output_type": "execute_result"
    }
   ],
   "source": [
    "bacon"
   ]
  },
  {
   "cell_type": "markdown",
   "id": "bb84eaa7-e664-4bdd-aec1-ff4b7c2e3d1e",
   "metadata": {},
   "source": [
    "9. What are the list concatenation and list replication operators?"
   ]
  },
  {
   "cell_type": "markdown",
   "id": "5962ae55-a50a-4f4d-968e-1c783c89b1e4",
   "metadata": {},
   "source": [
    "list concatenation operator : +\n",
    "<br>\n",
    "list replication operator   : *"
   ]
  },
  {
   "cell_type": "markdown",
   "id": "c0b7ce5e-8e85-42b8-bb55-5ab0c4777f3a",
   "metadata": {},
   "source": [
    "10. What is difference between the list methods append() and insert()?"
   ]
  },
  {
   "cell_type": "markdown",
   "id": "25dbafb9-846c-470a-942f-ab48607b9716",
   "metadata": {},
   "source": [
    "append() : the method append takes a value and append that value at the end of the said list.<br>insert() : the method insert takes two input. the index and value. the vaule is inserted in the said list the index taken as input"
   ]
  },
  {
   "cell_type": "markdown",
   "id": "95be462c-f54f-4ee4-8428-2d933331c39c",
   "metadata": {},
   "source": [
    "11. What are the two methods for removing items from a list?"
   ]
  },
  {
   "cell_type": "markdown",
   "id": "c84e05f5-6b64-4de3-be1c-06d3e4429f64",
   "metadata": {},
   "source": [
    "Methods for removing items from a list:\n",
    "* pop()\n",
    "* remove()\n"
   ]
  },
  {
   "cell_type": "markdown",
   "id": "3869ad4f-d0f8-47de-bb95-03cae583e50b",
   "metadata": {},
   "source": [
    "12. Describe how list values and string values are identical."
   ]
  },
  {
   "cell_type": "markdown",
   "id": "2da35d0b-104b-42cb-a4a3-1a9b03f4635f",
   "metadata": {},
   "source": [
    "both list and string values are:\n",
    "* sequential\n",
    "* iterable \n",
    "* can be concatenated and replicated"
   ]
  },
  {
   "cell_type": "markdown",
   "id": "f152f743-0432-4e71-8a32-60800bd03aa2",
   "metadata": {},
   "source": [
    "13. What&#39;s the difference between tuples and lists?"
   ]
  },
  {
   "cell_type": "markdown",
   "id": "8a8956ab-085e-473e-b2ee-23356373d5d3",
   "metadata": {},
   "source": [
    "* tuples are not ordered.\n",
    "* tuples are immutable"
   ]
  },
  {
   "cell_type": "markdown",
   "id": "f81f62ca-5d6b-495d-ad89-915a8c2c6d8d",
   "metadata": {},
   "source": [
    "14. How do you type a tuple value that only contains the integer 42?"
   ]
  },
  {
   "cell_type": "code",
   "execution_count": 45,
   "id": "b35c6d51-1f79-47ab-b6b4-1b19630fd4e1",
   "metadata": {},
   "outputs": [],
   "source": [
    "t = (42,)"
   ]
  },
  {
   "cell_type": "code",
   "execution_count": 46,
   "id": "21032652-0d49-4e9f-81ce-548c9f973f7c",
   "metadata": {},
   "outputs": [
    {
     "data": {
      "text/plain": [
       "tuple"
      ]
     },
     "execution_count": 46,
     "metadata": {},
     "output_type": "execute_result"
    }
   ],
   "source": [
    "type(t)"
   ]
  },
  {
   "cell_type": "markdown",
   "id": "74b3e14f-5a84-4e5d-9a36-54aac22d2d87",
   "metadata": {},
   "source": [
    "15. How do you get a list value&#39;s tuple form? How do you get a tuple value&#39;s list form?"
   ]
  },
  {
   "cell_type": "markdown",
   "id": "66ad849c-2aec-4c18-892b-676a87c97ea7",
   "metadata": {},
   "source": [
    "* list from tuple form:<br>\n",
    "list(my_tuple)<br>\n",
    "* tuple from list form:<br>\n",
    "tuple(my_list)<br>"
   ]
  },
  {
   "cell_type": "markdown",
   "id": "e47301ff-8c70-4d5f-a30e-145484083e3b",
   "metadata": {},
   "source": [
    "16. Variables that \"contain\" list values are not necessarily lists themselves. Instead, what do they contain?"
   ]
  },
  {
   "cell_type": "markdown",
   "id": "bc015524-25df-4e7d-bed8-6a4ef2145da4",
   "metadata": {},
   "source": [
    "variaable that contain list values does not contain the list itself instead they contain referance to the list object in memory.<br> It contains the referance to the memory location where the list is stored"
   ]
  },
  {
   "cell_type": "markdown",
   "id": "7b58e181-088c-4322-9f09-45b7fef460b3",
   "metadata": {},
   "source": [
    "17. How do you distinguish between copy.copy() and copy.deepcopy()?"
   ]
  },
  {
   "cell_type": "markdown",
   "id": "a91d36b7-0c46-474c-8e29-0de9cf90d380",
   "metadata": {},
   "source": [
    "A shallow copy constructs a new compound object and then (to the extent possible) inserts *references* into it to the objects found in the original.<br>A deep copy constructs a new compound object and then, recursively, inserts *copies into it of the objects* found in the original."
   ]
  },
  {
   "cell_type": "code",
   "execution_count": 62,
   "id": "7ef44b0d-b0f8-4fce-976e-285e6385b448",
   "metadata": {},
   "outputs": [
    {
     "name": "stdout",
     "output_type": "stream",
     "text": [
      "[[1, 2], [3, 4]]\n"
     ]
    }
   ],
   "source": [
    "import copy\n",
    "mylist= [[1,2],[3,4]]\n",
    "print(mylist)"
   ]
  },
  {
   "cell_type": "code",
   "execution_count": 64,
   "id": "b1c226f7-d16c-4bd8-a13d-e4b49404181d",
   "metadata": {},
   "outputs": [],
   "source": [
    "s_copy_list = copy.copy(mylist)\n",
    "d_copy_list = copy.deepcopy(mylist)"
   ]
  },
  {
   "cell_type": "code",
   "execution_count": 65,
   "id": "34128e80-20ea-4204-be17-5e52d63ebfcf",
   "metadata": {},
   "outputs": [],
   "source": [
    "mylist[0][0] = 'Hello'"
   ]
  },
  {
   "cell_type": "code",
   "execution_count": 66,
   "id": "017dbccf-910a-4058-a371-3d0007c2b004",
   "metadata": {},
   "outputs": [
    {
     "name": "stdout",
     "output_type": "stream",
     "text": [
      "[['Hello', 2], [3, 4]]\n",
      "[['Hello', 2], [3, 4]]\n",
      "[[1, 2], [3, 4]]\n"
     ]
    }
   ],
   "source": [
    "print(mylist)\n",
    "print(s_copy_list)\n",
    "print(d_copy_list)"
   ]
  },
  {
   "cell_type": "markdown",
   "id": "b0a5e430-df3a-46bd-ab4f-3fdfcf32a6e3",
   "metadata": {},
   "source": [
    "We see here in example the changes in origial (mylist) is also reflected in the shallow copied (s_copy_list) as shallow copy inserts references to the original object, but changes is not reflected in deep copied instance as it inserts objects found in the original. "
   ]
  },
  {
   "cell_type": "code",
   "execution_count": null,
   "id": "f165abb3-ee32-4887-b752-728d1921d7d6",
   "metadata": {},
   "outputs": [],
   "source": []
  }
 ],
 "metadata": {
  "kernelspec": {
   "display_name": "Python 3 (ipykernel)",
   "language": "python",
   "name": "python3"
  },
  "language_info": {
   "codemirror_mode": {
    "name": "ipython",
    "version": 3
   },
   "file_extension": ".py",
   "mimetype": "text/x-python",
   "name": "python",
   "nbconvert_exporter": "python",
   "pygments_lexer": "ipython3",
   "version": "3.10.6"
  }
 },
 "nbformat": 4,
 "nbformat_minor": 5
}
